{
 "cells": [
  {
   "cell_type": "code",
   "execution_count": 1,
   "id": "7d4fdf46-0fb3-4c58-8a14-fcbc8e0fccc5",
   "metadata": {},
   "outputs": [
    {
     "data": {
      "text/html": [
       "<div>\n",
       "<style scoped>\n",
       "    .dataframe tbody tr th:only-of-type {\n",
       "        vertical-align: middle;\n",
       "    }\n",
       "\n",
       "    .dataframe tbody tr th {\n",
       "        vertical-align: top;\n",
       "    }\n",
       "\n",
       "    .dataframe thead th {\n",
       "        text-align: right;\n",
       "    }\n",
       "</style>\n",
       "<table border=\"1\" class=\"dataframe\">\n",
       "  <thead>\n",
       "    <tr style=\"text-align: right;\">\n",
       "      <th></th>\n",
       "      <th>player_image_url</th>\n",
       "      <th>player_name</th>\n",
       "      <th>player_country</th>\n",
       "      <th>player_club</th>\n",
       "      <th>player_position</th>\n",
       "      <th>player_stats_url</th>\n",
       "    </tr>\n",
       "  </thead>\n",
       "  <tbody>\n",
       "    <tr>\n",
       "      <th>0</th>\n",
       "      <td>https://resources.premierleague.com/premierlea...</td>\n",
       "      <td>Max Aarons</td>\n",
       "      <td>England</td>\n",
       "      <td>Bournemouth</td>\n",
       "      <td>Defender</td>\n",
       "      <td>https://www.premierleague.com/en/players/23298...</td>\n",
       "    </tr>\n",
       "    <tr>\n",
       "      <th>1</th>\n",
       "      <td>https://resources.premierleague.com/premierlea...</td>\n",
       "      <td>George Abbott</td>\n",
       "      <td>England</td>\n",
       "      <td>Tottenham Hotspur</td>\n",
       "      <td>Midfielder</td>\n",
       "      <td>https://www.premierleague.com/en/players/51932...</td>\n",
       "    </tr>\n",
       "    <tr>\n",
       "      <th>2</th>\n",
       "      <td>https://resources.premierleague.com/premierlea...</td>\n",
       "      <td>Zach Abbott</td>\n",
       "      <td>England</td>\n",
       "      <td>Nottingham Forest</td>\n",
       "      <td>Defender</td>\n",
       "      <td>https://www.premierleague.com/en/players/54906...</td>\n",
       "    </tr>\n",
       "    <tr>\n",
       "      <th>3</th>\n",
       "      <td>https://resources.premierleague.com/premierlea...</td>\n",
       "      <td>Josh Acheampong</td>\n",
       "      <td>England</td>\n",
       "      <td>Chelsea</td>\n",
       "      <td>Defender</td>\n",
       "      <td>https://www.premierleague.com/en/players/57701...</td>\n",
       "    </tr>\n",
       "    <tr>\n",
       "      <th>4</th>\n",
       "      <td>https://resources.premierleague.com/premierlea...</td>\n",
       "      <td>Ché Adams</td>\n",
       "      <td>Scotland</td>\n",
       "      <td>Southampton</td>\n",
       "      <td>Forward</td>\n",
       "      <td>https://www.premierleague.com/en/players/20043...</td>\n",
       "    </tr>\n",
       "  </tbody>\n",
       "</table>\n",
       "</div>"
      ],
      "text/plain": [
       "                                    player_image_url      player_name  \\\n",
       "0  https://resources.premierleague.com/premierlea...       Max Aarons   \n",
       "1  https://resources.premierleague.com/premierlea...    George Abbott   \n",
       "2  https://resources.premierleague.com/premierlea...      Zach Abbott   \n",
       "3  https://resources.premierleague.com/premierlea...  Josh Acheampong   \n",
       "4  https://resources.premierleague.com/premierlea...        Ché Adams   \n",
       "\n",
       "  player_country        player_club player_position  \\\n",
       "0        England        Bournemouth        Defender   \n",
       "1        England  Tottenham Hotspur      Midfielder   \n",
       "2        England  Nottingham Forest        Defender   \n",
       "3        England            Chelsea        Defender   \n",
       "4       Scotland        Southampton         Forward   \n",
       "\n",
       "                                    player_stats_url  \n",
       "0  https://www.premierleague.com/en/players/23298...  \n",
       "1  https://www.premierleague.com/en/players/51932...  \n",
       "2  https://www.premierleague.com/en/players/54906...  \n",
       "3  https://www.premierleague.com/en/players/57701...  \n",
       "4  https://www.premierleague.com/en/players/20043...  "
      ]
     },
     "execution_count": 1,
     "metadata": {},
     "output_type": "execute_result"
    }
   ],
   "source": [
    "import pandas as pd\n",
    "\n",
    "df2 = pd.read_csv(\"premier_player_info.csv\")\n",
    "\n",
    "df2.head()"
   ]
  },
  {
   "cell_type": "code",
   "execution_count": 3,
   "id": "714134ab-be56-4ab5-8367-127e5c3e2c46",
   "metadata": {},
   "outputs": [],
   "source": [
    "cols = list(df2.columns)"
   ]
  },
  {
   "cell_type": "code",
   "execution_count": 4,
   "id": "e099ab86-e8c6-4d47-9b31-8f4f429f2f8a",
   "metadata": {},
   "outputs": [],
   "source": [
    "cols.insert(0, cols.pop(1))"
   ]
  },
  {
   "cell_type": "code",
   "execution_count": 6,
   "id": "7f127e4e-a1bf-46b5-918b-cb4cc631165c",
   "metadata": {},
   "outputs": [],
   "source": [
    "df2 = df2[cols]"
   ]
  },
  {
   "cell_type": "markdown",
   "id": "e9f4d1cf-d647-4fe8-b35a-f9de7df21f8f",
   "metadata": {},
   "source": [
    "Mettre player_name en première position"
   ]
  },
  {
   "cell_type": "code",
   "execution_count": 7,
   "id": "ff3dfed6-8a50-4332-9c08-8b1753e4a456",
   "metadata": {},
   "outputs": [
    {
     "data": {
      "text/html": [
       "<div>\n",
       "<style scoped>\n",
       "    .dataframe tbody tr th:only-of-type {\n",
       "        vertical-align: middle;\n",
       "    }\n",
       "\n",
       "    .dataframe tbody tr th {\n",
       "        vertical-align: top;\n",
       "    }\n",
       "\n",
       "    .dataframe thead th {\n",
       "        text-align: right;\n",
       "    }\n",
       "</style>\n",
       "<table border=\"1\" class=\"dataframe\">\n",
       "  <thead>\n",
       "    <tr style=\"text-align: right;\">\n",
       "      <th></th>\n",
       "      <th>player_name</th>\n",
       "      <th>player_image_url</th>\n",
       "      <th>player_country</th>\n",
       "      <th>player_club</th>\n",
       "      <th>player_position</th>\n",
       "      <th>player_stats_url</th>\n",
       "    </tr>\n",
       "  </thead>\n",
       "  <tbody>\n",
       "    <tr>\n",
       "      <th>0</th>\n",
       "      <td>Max Aarons</td>\n",
       "      <td>https://resources.premierleague.com/premierlea...</td>\n",
       "      <td>England</td>\n",
       "      <td>Bournemouth</td>\n",
       "      <td>Defender</td>\n",
       "      <td>https://www.premierleague.com/en/players/23298...</td>\n",
       "    </tr>\n",
       "    <tr>\n",
       "      <th>1</th>\n",
       "      <td>George Abbott</td>\n",
       "      <td>https://resources.premierleague.com/premierlea...</td>\n",
       "      <td>England</td>\n",
       "      <td>Tottenham Hotspur</td>\n",
       "      <td>Midfielder</td>\n",
       "      <td>https://www.premierleague.com/en/players/51932...</td>\n",
       "    </tr>\n",
       "    <tr>\n",
       "      <th>2</th>\n",
       "      <td>Zach Abbott</td>\n",
       "      <td>https://resources.premierleague.com/premierlea...</td>\n",
       "      <td>England</td>\n",
       "      <td>Nottingham Forest</td>\n",
       "      <td>Defender</td>\n",
       "      <td>https://www.premierleague.com/en/players/54906...</td>\n",
       "    </tr>\n",
       "    <tr>\n",
       "      <th>3</th>\n",
       "      <td>Josh Acheampong</td>\n",
       "      <td>https://resources.premierleague.com/premierlea...</td>\n",
       "      <td>England</td>\n",
       "      <td>Chelsea</td>\n",
       "      <td>Defender</td>\n",
       "      <td>https://www.premierleague.com/en/players/57701...</td>\n",
       "    </tr>\n",
       "    <tr>\n",
       "      <th>4</th>\n",
       "      <td>Ché Adams</td>\n",
       "      <td>https://resources.premierleague.com/premierlea...</td>\n",
       "      <td>Scotland</td>\n",
       "      <td>Southampton</td>\n",
       "      <td>Forward</td>\n",
       "      <td>https://www.premierleague.com/en/players/20043...</td>\n",
       "    </tr>\n",
       "  </tbody>\n",
       "</table>\n",
       "</div>"
      ],
      "text/plain": [
       "       player_name                                   player_image_url  \\\n",
       "0       Max Aarons  https://resources.premierleague.com/premierlea...   \n",
       "1    George Abbott  https://resources.premierleague.com/premierlea...   \n",
       "2      Zach Abbott  https://resources.premierleague.com/premierlea...   \n",
       "3  Josh Acheampong  https://resources.premierleague.com/premierlea...   \n",
       "4        Ché Adams  https://resources.premierleague.com/premierlea...   \n",
       "\n",
       "  player_country        player_club player_position  \\\n",
       "0        England        Bournemouth        Defender   \n",
       "1        England  Tottenham Hotspur      Midfielder   \n",
       "2        England  Nottingham Forest        Defender   \n",
       "3        England            Chelsea        Defender   \n",
       "4       Scotland        Southampton         Forward   \n",
       "\n",
       "                                    player_stats_url  \n",
       "0  https://www.premierleague.com/en/players/23298...  \n",
       "1  https://www.premierleague.com/en/players/51932...  \n",
       "2  https://www.premierleague.com/en/players/54906...  \n",
       "3  https://www.premierleague.com/en/players/57701...  \n",
       "4  https://www.premierleague.com/en/players/20043...  "
      ]
     },
     "execution_count": 7,
     "metadata": {},
     "output_type": "execute_result"
    }
   ],
   "source": [
    "df2.head()"
   ]
  },
  {
   "cell_type": "code",
   "execution_count": 8,
   "id": "9e371517-758e-4112-a994-504d699cc570",
   "metadata": {},
   "outputs": [
    {
     "name": "stdout",
     "output_type": "stream",
     "text": [
      "<class 'pandas.core.frame.DataFrame'>\n",
      "RangeIndex: 1116 entries, 0 to 1115\n",
      "Data columns (total 6 columns):\n",
      " #   Column            Non-Null Count  Dtype \n",
      "---  ------            --------------  ----- \n",
      " 0   player_name       1116 non-null   object\n",
      " 1   player_image_url  1116 non-null   object\n",
      " 2   player_country    1116 non-null   object\n",
      " 3   player_club       1116 non-null   object\n",
      " 4   player_position   1116 non-null   object\n",
      " 5   player_stats_url  1116 non-null   object\n",
      "dtypes: object(6)\n",
      "memory usage: 52.4+ KB\n"
     ]
    }
   ],
   "source": [
    "df2.info()"
   ]
  },
  {
   "cell_type": "markdown",
   "id": "c7b42914-fae0-4e5e-96f9-92d0d4e97a38",
   "metadata": {},
   "source": [
    "Voir s'il y a le meme nombre de ligne que dans l'ancienne table (1116)"
   ]
  },
  {
   "cell_type": "code",
   "execution_count": 9,
   "id": "ff0b4b78-3d71-40b2-a6fb-2ed75a55c3f8",
   "metadata": {},
   "outputs": [],
   "source": [
    "df2 = df2.query(\"player_name not in ['Freddie Symonds', 'Tom Taylor']\").reset_index(drop=True)"
   ]
  },
  {
   "cell_type": "code",
   "execution_count": 10,
   "id": "5245e5e9-27c8-4cd0-8d1f-8080ebb33056",
   "metadata": {},
   "outputs": [
    {
     "name": "stdout",
     "output_type": "stream",
     "text": [
      "<class 'pandas.core.frame.DataFrame'>\n",
      "RangeIndex: 1114 entries, 0 to 1113\n",
      "Data columns (total 6 columns):\n",
      " #   Column            Non-Null Count  Dtype \n",
      "---  ------            --------------  ----- \n",
      " 0   player_name       1114 non-null   object\n",
      " 1   player_image_url  1114 non-null   object\n",
      " 2   player_country    1114 non-null   object\n",
      " 3   player_club       1114 non-null   object\n",
      " 4   player_position   1114 non-null   object\n",
      " 5   player_stats_url  1114 non-null   object\n",
      "dtypes: object(6)\n",
      "memory usage: 52.3+ KB\n"
     ]
    }
   ],
   "source": [
    "df2.info()"
   ]
  },
  {
   "cell_type": "markdown",
   "id": "436f0392-2263-4027-805e-3c4c9b22635d",
   "metadata": {},
   "source": [
    "Supprimer les 2 joueurs supprimé de l'autre table"
   ]
  },
  {
   "cell_type": "code",
   "execution_count": 11,
   "id": "98fdaad1-bad1-4c0c-8c17-879dd8513946",
   "metadata": {},
   "outputs": [],
   "source": [
    "df2.to_pickle(\"df2_modifie.pkl\")"
   ]
  },
  {
   "cell_type": "code",
   "execution_count": null,
   "id": "95356e3a-5b4d-4e39-83c7-ae0ca4f6b318",
   "metadata": {},
   "outputs": [],
   "source": []
  }
 ],
 "metadata": {
  "kernelspec": {
   "display_name": "Python 3 (ipykernel)",
   "language": "python",
   "name": "python3"
  },
  "language_info": {
   "codemirror_mode": {
    "name": "ipython",
    "version": 3
   },
   "file_extension": ".py",
   "mimetype": "text/x-python",
   "name": "python",
   "nbconvert_exporter": "python",
   "pygments_lexer": "ipython3",
   "version": "3.13.6"
  }
 },
 "nbformat": 4,
 "nbformat_minor": 5
}
